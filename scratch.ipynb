{
 "cells": [
  {
   "cell_type": "code",
   "execution_count": 1,
   "metadata": {},
   "outputs": [],
   "source": [
    "import numpy as np\n",
    "import networkx as nx\n",
    "from sklearn.datasets import make_blobs\n",
    "from sklearn.cluster import KMeans\n",
    "from scipy.sparse.linalg import eigs"
   ]
  },
  {
   "cell_type": "code",
   "execution_count": 2,
   "metadata": {},
   "outputs": [],
   "source": [
    "def SCORE_method(A, K):\n",
    "    # Ensure K is at least 2 for the method to make sense\n",
    "    if K < 2:\n",
    "        raise ValueError(\"K must be at least 2.\")\n",
    "\n",
    "    # Compute the K largest eigenvectors of the adjacency matrix A\n",
    "    values, vectors = eigs(A, k=K, which='LR')  # 'LR' means Largest Real part\n",
    "    vectors = np.real(vectors)  # Ensure the eigenvectors are real\n",
    "\n",
    "    # Normalize the eigenvectors to have unit norm\n",
    "    for i in range(K):\n",
    "        vectors[:, i] = vectors[:, i] / np.linalg.norm(vectors[:, i], 2)\n",
    "    \n",
    "    # Form the ratio matrix R using the first eigenvector and the rest\n",
    "    R = np.zeros((A.shape[0], K - 1))\n",
    "    for i in range(1, K):\n",
    "        R[:, i - 1] = vectors[:, i] / vectors[:, 0]\n",
    "    \n",
    "    # Apply k-means clustering to the ratio matrix\n",
    "    kmeans = KMeans(n_clusters=K, random_state=0).fit(R)\n",
    "    labels = kmeans.labels_\n",
    "    \n",
    "    return labels\n"
   ]
  },
  {
   "cell_type": "code",
   "execution_count": 3,
   "metadata": {},
   "outputs": [],
   "source": [
    "def generate_community_graph(K, nodes_per_community=100, p_in=0.8, p_out=0.05):\n",
    "    \"\"\"\n",
    "    Generate a synthetic graph with K communities using the stochastic block model.\n",
    "\n",
    "    Parameters:\n",
    "    - K: int, number of communities\n",
    "    - nodes_per_community: int, number of nodes in each community\n",
    "    - p_in: float, probability of edges within the same community\n",
    "    - p_out: float, probability of edges between different communities\n",
    "\n",
    "    Returns:\n",
    "    - G: NetworkX graph, the generated graph with community labels as node attributes\n",
    "    \"\"\"\n",
    "    # Total number of nodes\n",
    "    N = K * nodes_per_community\n",
    "    \n",
    "    # Create a list of community labels for each node\n",
    "    community_labels = np.repeat(np.arange(K), nodes_per_community)\n",
    "    \n",
    "    # Initialize the adjacency matrix\n",
    "    A = np.zeros((N, N))\n",
    "    \n",
    "    # Fill in the adjacency matrix\n",
    "    for i in range(N):\n",
    "        for j in range(i + 1, N):\n",
    "            if community_labels[i] == community_labels[j]:  # Nodes are in the same community\n",
    "                if np.random.rand() < p_in:\n",
    "                    A[i, j] = A[j, i] = 1\n",
    "            else:  # Nodes are in different communities\n",
    "                if np.random.rand() < p_out:\n",
    "                    A[i, j] = A[j, i] = 1\n",
    "                    \n",
    "    # Create a NetworkX graph from the adjacency matrix\n",
    "    G = nx.from_numpy_matrix(A)\n",
    "    \n",
    "    # Assign community labels to each node\n",
    "    for i, label in enumerate(community_labels):\n",
    "        G.nodes[i]['community'] = label\n",
    "    \n",
    "    return G"
   ]
  },
  {
   "cell_type": "code",
   "execution_count": 5,
   "metadata": {},
   "outputs": [
    {
     "ename": "TypeError",
     "evalue": "'_AxesStack' object is not callable",
     "output_type": "error",
     "traceback": [
      "\u001b[0;31m---------------------------------------------------------------------------\u001b[0m",
      "\u001b[0;31mTypeError\u001b[0m                                 Traceback (most recent call last)",
      "Cell \u001b[0;32mIn[5], line 14\u001b[0m\n\u001b[1;32m     12\u001b[0m \u001b[39m# Draw the graph specifying the axes object explicitly\u001b[39;00m\n\u001b[1;32m     13\u001b[0m colors \u001b[39m=\u001b[39m [G\u001b[39m.\u001b[39mnodes[i][\u001b[39m'\u001b[39m\u001b[39mcommunity\u001b[39m\u001b[39m'\u001b[39m] \u001b[39mfor\u001b[39;00m i \u001b[39min\u001b[39;00m G\u001b[39m.\u001b[39mnodes]\n\u001b[0;32m---> 14\u001b[0m nx\u001b[39m.\u001b[39;49mdraw(G, pos, node_color\u001b[39m=\u001b[39;49mcolors, with_labels\u001b[39m=\u001b[39;49m\u001b[39mTrue\u001b[39;49;00m, cmap\u001b[39m=\u001b[39;49mplt\u001b[39m.\u001b[39;49mcm\u001b[39m.\u001b[39;49mrainbow)\n\u001b[1;32m     15\u001b[0m plt\u001b[39m.\u001b[39mtitle(\u001b[39m\"\u001b[39m\u001b[39mSynthetic Graph with \u001b[39m\u001b[39m{}\u001b[39;00m\u001b[39m Communities\u001b[39m\u001b[39m\"\u001b[39m\u001b[39m.\u001b[39mformat(K))\n\u001b[1;32m     16\u001b[0m plt\u001b[39m.\u001b[39mshow()\n",
      "File \u001b[0;32m~/anaconda3/lib/python3.10/site-packages/networkx/drawing/nx_pylab.py:113\u001b[0m, in \u001b[0;36mdraw\u001b[0;34m(G, pos, ax, **kwds)\u001b[0m\n\u001b[1;32m    111\u001b[0m cf\u001b[39m.\u001b[39mset_facecolor(\u001b[39m\"\u001b[39m\u001b[39mw\u001b[39m\u001b[39m\"\u001b[39m)\n\u001b[1;32m    112\u001b[0m \u001b[39mif\u001b[39;00m ax \u001b[39mis\u001b[39;00m \u001b[39mNone\u001b[39;00m:\n\u001b[0;32m--> 113\u001b[0m     \u001b[39mif\u001b[39;00m cf\u001b[39m.\u001b[39;49m_axstack() \u001b[39mis\u001b[39;00m \u001b[39mNone\u001b[39;00m:\n\u001b[1;32m    114\u001b[0m         ax \u001b[39m=\u001b[39m cf\u001b[39m.\u001b[39madd_axes((\u001b[39m0\u001b[39m, \u001b[39m0\u001b[39m, \u001b[39m1\u001b[39m, \u001b[39m1\u001b[39m))\n\u001b[1;32m    115\u001b[0m     \u001b[39melse\u001b[39;00m:\n",
      "\u001b[0;31mTypeError\u001b[0m: '_AxesStack' object is not callable"
     ]
    },
    {
     "data": {
      "image/png": "[encoded data removed]",
      "text/plain": [
       "<Figure size 800x800 with 1 Axes>"
      ]
     },
     "metadata": {},
     "output_type": "display_data"
    }
   ],
   "source": [
    "# Example usage\n",
    "K = 3  # Number of communities\n",
    "G = generate_community_graph(K)\n",
    "\n",
    "# Visualize the generated graph (optional, for verification purposes)\n",
    "import matplotlib.pyplot as plt\n",
    "\n",
    "# Visualize the graph with predicted community labels\n",
    "fig, ax = plt.subplots(figsize=(8, 8))  # Create a figure and an axes object\n",
    "pos = nx.spring_layout(G)  # Compute the layout\n",
    "\n",
    "# Draw the graph specifying the axes object explicitly\n",
    "colors = [G.nodes[i]['community'] for i in G.nodes]\n",
    "nx.draw(G, pos, node_color=colors, with_labels=True, cmap=plt.cm.rainbow)\n",
    "plt.title(\"Synthetic Graph with {} Communities\".format(K))\n",
    "plt.show()"
   ]
  },
  {
   "cell_type": "code",
   "execution_count": 17,
   "metadata": {},
   "outputs": [
    {
     "name": "stderr",
     "output_type": "stream",
     "text": [
      "/Users/henryhe/anaconda3/lib/python3.10/site-packages/sklearn/cluster/_kmeans.py:870: FutureWarning: The default value of `n_init` will change from 10 to 'auto' in 1.4. Set the value of `n_init` explicitly to suppress the warning\n",
      "  warnings.warn(\n"
     ]
    },
    {
     "ename": "TypeError",
     "evalue": "'_AxesStack' object is not callable",
     "output_type": "error",
     "traceback": [
      "\u001b[0;31m---------------------------------------------------------------------------\u001b[0m",
      "\u001b[0;31mTypeError\u001b[0m                                 Traceback (most recent call last)",
      "Cell \u001b[0;32mIn[17], line 6\u001b[0m\n\u001b[1;32m      4\u001b[0m \u001b[39m# Visualize the graph with predicted community labels\u001b[39;00m\n\u001b[1;32m      5\u001b[0m plt\u001b[39m.\u001b[39mfigure(figsize\u001b[39m=\u001b[39m(\u001b[39m8\u001b[39m, \u001b[39m8\u001b[39m))\n\u001b[0;32m----> 6\u001b[0m nx\u001b[39m.\u001b[39;49mdraw(G, pos, node_color\u001b[39m=\u001b[39;49mpredicted_labels, with_labels\u001b[39m=\u001b[39;49m\u001b[39mTrue\u001b[39;49;00m, cmap\u001b[39m=\u001b[39;49mplt\u001b[39m.\u001b[39;49mcm\u001b[39m.\u001b[39;49mrainbow)\n\u001b[1;32m      7\u001b[0m plt\u001b[39m.\u001b[39mtitle(\u001b[39m\"\u001b[39m\u001b[39mGraph with Predicted Communities using SCORE\u001b[39m\u001b[39m\"\u001b[39m)\n\u001b[1;32m      8\u001b[0m plt\u001b[39m.\u001b[39mshow()\n",
      "File \u001b[0;32m~/anaconda3/lib/python3.10/site-packages/networkx/drawing/nx_pylab.py:113\u001b[0m, in \u001b[0;36mdraw\u001b[0;34m(G, pos, ax, **kwds)\u001b[0m\n\u001b[1;32m    111\u001b[0m cf\u001b[39m.\u001b[39mset_facecolor(\u001b[39m\"\u001b[39m\u001b[39mw\u001b[39m\u001b[39m\"\u001b[39m)\n\u001b[1;32m    112\u001b[0m \u001b[39mif\u001b[39;00m ax \u001b[39mis\u001b[39;00m \u001b[39mNone\u001b[39;00m:\n\u001b[0;32m--> 113\u001b[0m     \u001b[39mif\u001b[39;00m cf\u001b[39m.\u001b[39;49m_axstack() \u001b[39mis\u001b[39;00m \u001b[39mNone\u001b[39;00m:\n\u001b[1;32m    114\u001b[0m         ax \u001b[39m=\u001b[39m cf\u001b[39m.\u001b[39madd_axes((\u001b[39m0\u001b[39m, \u001b[39m0\u001b[39m, \u001b[39m1\u001b[39m, \u001b[39m1\u001b[39m))\n\u001b[1;32m    115\u001b[0m     \u001b[39melse\u001b[39;00m:\n",
      "\u001b[0;31mTypeError\u001b[0m: '_AxesStack' object is not callable"
     ]
    },
    {
     "data": {
      "text/plain": [
       "<Figure size 800x800 with 0 Axes>"
      ]
     },
     "metadata": {},
     "output_type": "display_data"
    }
   ],
   "source": [
    "# Re-run the SCORE method with all necessary imports\n",
    "predicted_labels = SCORE_method(A, K)\n",
    "\n",
    "# Visualize the graph with predicted community labels\n",
    "plt.figure(figsize=(8, 8))\n",
    "nx.draw(G, pos, node_color=predicted_labels, with_labels=True, cmap=plt.cm.rainbow)\n",
    "plt.title(\"Graph with Predicted Communities using SCORE\")\n",
    "plt.show()\n",
    "\n",
    "predicted_labels"
   ]
  }
 ],
 "metadata": {
  "kernelspec": {
   "display_name": "base",
   "language": "python",
   "name": "python3"
  },
  "language_info": {
   "codemirror_mode": {
    "name": "ipython",
    "version": 3
   },
   "file_extension": ".py",
   "mimetype": "text/x-python",
   "name": "python",
   "nbconvert_exporter": "python",
   "pygments_lexer": "ipython3",
   "version": "3.10.9"
  },
  "orig_nbformat": 4
 },
 "nbformat": 4,
 "nbformat_minor": 2
}
